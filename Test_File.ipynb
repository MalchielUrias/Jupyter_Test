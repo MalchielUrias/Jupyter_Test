{
 "cells": [
  {
   "cell_type": "code",
   "execution_count": 1,
   "id": "0eb24407",
   "metadata": {},
   "outputs": [],
   "source": [
    "# Test file in prerparation for my HDSC internship "
   ]
  },
  {
   "cell_type": "code",
   "execution_count": 2,
   "id": "d9761c60",
   "metadata": {},
   "outputs": [
    {
     "name": "stdout",
     "output_type": "stream",
     "text": [
      "First cell output...\n"
     ]
    }
   ],
   "source": [
    "print(\"First cell output...\")"
   ]
  },
  {
   "cell_type": "code",
   "execution_count": 3,
   "id": "8918274e",
   "metadata": {},
   "outputs": [
    {
     "name": "stdout",
     "output_type": "stream",
     "text": [
      "Second cell output...\n"
     ]
    }
   ],
   "source": [
    "print(\"Second cell output...\")"
   ]
  },
  {
   "cell_type": "code",
   "execution_count": 4,
   "id": "2f9f0556",
   "metadata": {},
   "outputs": [
    {
     "name": "stdout",
     "output_type": "stream",
     "text": [
      "Third cell output...\n"
     ]
    }
   ],
   "source": [
    "print(\"Third cell output...\")"
   ]
  },
  {
   "cell_type": "code",
   "execution_count": 5,
   "id": "3c003b2c",
   "metadata": {},
   "outputs": [
    {
     "name": "stdout",
     "output_type": "stream",
     "text": [
      "Alright save and move on...\n"
     ]
    }
   ],
   "source": [
    "print(\"Alright save and move on...\")"
   ]
  },
  {
   "cell_type": "code",
   "execution_count": null,
   "id": "7df4a4cd",
   "metadata": {},
   "outputs": [],
   "source": []
  }
 ],
 "metadata": {
  "kernelspec": {
   "display_name": "Python 3",
   "language": "python",
   "name": "python3"
  },
  "language_info": {
   "codemirror_mode": {
    "name": "ipython",
    "version": 3
   },
   "file_extension": ".py",
   "mimetype": "text/x-python",
   "name": "python",
   "nbconvert_exporter": "python",
   "pygments_lexer": "ipython3",
   "version": "3.9.5"
  }
 },
 "nbformat": 4,
 "nbformat_minor": 5
}
